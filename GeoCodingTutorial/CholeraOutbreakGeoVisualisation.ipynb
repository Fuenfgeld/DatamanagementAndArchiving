{
  "nbformat": 4,
  "nbformat_minor": 0,
  "metadata": {
    "colab": {
      "name": "CholeraOutbreakGeoVisualisation.ipynb",
      "provenance": [],
      "collapsed_sections": [],
      "toc_visible": true,
      "authorship_tag": "ABX9TyPVMueP0jlhA5IUtLe7rH6c",
      "include_colab_link": true
    },
    "kernelspec": {
      "name": "python3",
      "display_name": "Python 3"
    }
  },
  "cells": [
    {
      "cell_type": "markdown",
      "metadata": {
        "id": "view-in-github",
        "colab_type": "text"
      },
      "source": [
        "<a href=\"https://colab.research.google.com/github/Fuenfgeld/DatamanagementAndArchiving/blob/main/GeoCodingTutorial/CholeraOutbreakGeoVisualisation.ipynb\" target=\"_parent\"><img src=\"https://colab.research.google.com/assets/colab-badge.svg\" alt=\"Open In Colab\"/></a>"
      ]
    },
    {
      "cell_type": "markdown",
      "metadata": {
        "id": "koAbam21uSeR"
      },
      "source": [
        "\n",
        "### To initialize the code click Runtime and then Run all\n",
        "<img src=\"https://github.com/Fuenfgeld/DatamanagementAndArchiving/raw/main/GeoCodingTutorial/img/RunAll.png\" alt=\"Run All\" style=\"float:left; padding-right:30px; height:30px; width:50px;\"/>\n",
        "\n",
        "### Every Cell can be run individualy by clicking the Play Button\n",
        "<img src=\"https://github.com/Fuenfgeld/DatamanagementAndArchiving/raw/main/GeoCodingTutorial/img/RunCell.png\" style=\"float:right; padding-left:30px; height:30px; width:90px;\"/>\n",
        "\n",
        "This Tutorial was desiged by Kim, Hee. Check out her GitHub Repo(https://github.com/kimheekimi). Max \"improved\" the origianl code."
      ]
    },
    {
      "cell_type": "markdown",
      "metadata": {
        "id": "r3r1qj1hGWgs"
      },
      "source": [
        "# Case Study:  Dr. John Snow Cholera Outbreak (Geodata Visualization)\n",
        "This case study will recreate the approach that Dr. John Snow solved the cholera outbreak in London in 1854\n",
        "<img src=\"https://github.com/Fuenfgeld/DatamanagementAndArchiving/raw/main/GeoCodingTutorial/img/JohnSnow.jpg\" style=\"float:right; padding-left:30px; height:450px; width:450px;\"/>\n",
        "\n",
        "Dr. John Snow was a physician from London in 1854 when a cholera outbreak occurred in the Soho district, in the West End of London. <b>There was widespread belief that \"Miasma\" or bad air and stench was the cause of the cholera outbreak in Soho district. However, Dr. Snow was skeptical of the Miasma theory and was certain that cholera was likely a water-borne illness.</b> In addition to his systematic process of determining how cholera is transmitted, he began to create maps of the Cholera deaths in Soho and to map the locations of water pumps within the neighborhood. \n",
        "<br><br>\n",
        "<b> Original map by Dr. John Snow shown on the right </b> showing the clusters of cholera cases in the London epidemic of 1854, drawn and lithographed by Charles Cheffins."
      ]
    },
    {
      "cell_type": "code",
      "metadata": {
        "id": "6EGLGfM3ozvo"
      },
      "source": [
        "import folium\n",
        "from folium import plugins\n",
        "import pandas as pd"
      ],
      "execution_count": null,
      "outputs": []
    },
    {
      "cell_type": "markdown",
      "metadata": {
        "id": "FKo-FRrDsqrg"
      },
      "source": [
        "### Create a basemap of Soho District\n",
        "`Foluim` will plot the map object based on `OpenStreetMap (OSM)`. <br> `OSM` is a publicly available world map based on crowdsourced geographic information."
      ]
    },
    {
      "cell_type": "code",
      "metadata": {
        "id": "TS3nBbHUrDwn"
      },
      "source": [
        "# the latitude and Longitude coordinates of the Soho District center\n",
        "SOHO_COORDINATES = (51.513578, -0.136722)\n",
        "map_soho = folium.Map(location = SOHO_COORDINATES, width = \"75%\", zoom_start = 17) # max zoom: 18\n",
        "map_soho"
      ],
      "execution_count": null,
      "outputs": []
    },
    {
      "cell_type": "code",
      "metadata": {
        "id": "7MsO2J1krnC2"
      },
      "source": [
        "folium.TileLayer('stamentoner').add_to(map_soho)\n",
        "map_soho"
      ],
      "execution_count": null,
      "outputs": []
    },
    {
      "cell_type": "markdown",
      "metadata": {
        "id": "1EVy--yes7sk"
      },
      "source": [
        "###  Load and prepare the data\n",
        "The mortality data set has been collected by Dr. Snow from the Registrar's Office and from hospital records. "
      ]
    },
    {
      "cell_type": "code",
      "metadata": {
        "id": "uelrLJirrdf6"
      },
      "source": [
        "df_deaths = pd.read_csv('https://raw.githubusercontent.com/Fuenfgeld/DatamanagementAndArchiving/main/GeoCodingTutorial/cholera_deaths.csv')\n",
        "df_deaths.head(3)"
      ],
      "execution_count": null,
      "outputs": []
    },
    {
      "cell_type": "code",
      "metadata": {
        "id": "ClTNmOhxrgMO"
      },
      "source": [
        "df_pumps = pd.read_csv('https://raw.githubusercontent.com/Fuenfgeld/DatamanagementAndArchiving/main/GeoCodingTutorial/johnsnow_pumps.csv')\n",
        "df_pumps.head(3)"
      ],
      "execution_count": null,
      "outputs": []
    },
    {
      "cell_type": "markdown",
      "metadata": {
        "id": "GpizL_xascGs"
      },
      "source": [
        "Based on the given data set, three list objects need to be created. \n",
        "* `coordinates_p` stores all coordinates of pumps\n",
        "* `coordinates_d` stores all coordinates of deaths\n",
        "* `totaldeath` contains the number of deaths for each coordinate. This will determine the radius size of a marker"
      ]
    },
    {
      "cell_type": "code",
      "metadata": {
        "id": "DE4yD8_ar4pj"
      },
      "source": [
        "coordinates_p = df_pumps[[\"LAT\",\"LON\"]].values.tolist()\n",
        "coordinates_d = df_deaths[[\"LAT\",\"LON\"]].values.tolist()\n",
        "totaldeaths   = df_deaths[[\"DEATHS\"]].values.tolist()\n",
        "# Note that multiple functions can be chained together like above: .values.to_list()"
      ],
      "execution_count": null,
      "outputs": []
    },
    {
      "cell_type": "markdown",
      "metadata": {
        "id": "Y6PqBIrLtGDQ"
      },
      "source": [
        "###  Mapping the mortality data to the basemap\n",
        "Let us augument the basemap with mortality data set. Iterate the data set and map the `LAT` and `LON` values in `coordinates_d`. RegularPolygonMarker creates custom markers that draw red circles instead of points. The radius of the circle will be determined by the number of deaths in `totaldeaths`"
      ]
    },
    {
      "cell_type": "code",
      "metadata": {
        "id": "Jj9d8MsCtHR2"
      },
      "source": [
        "for i in range(0, len(coordinates_d)):\n",
        "    folium.RegularPolygonMarker(coordinates_d[i], radius = totaldeaths[i], fill_color = \"red\", fill_opacity = 0.5, number_of_sides = 12).add_to(map_soho) \n",
        "map_soho"
      ],
      "execution_count": null,
      "outputs": []
    },
    {
      "cell_type": "markdown",
      "metadata": {
        "id": "LOQbnGKXt0d1"
      },
      "source": [
        "###  Mapping the water pump data to the basemap"
      ]
    },
    {
      "cell_type": "code",
      "metadata": {
        "id": "be2D2SdhtKyp"
      },
      "source": [
        "for i in range(0, len(coordinates_p)):\n",
        "    folium.RegularPolygonMarker(coordinates_p[i], radius = 10, \\\n",
        "                                 fill_color = \"blue\", fill_opacity = 1\n",
        "                               ).add_to(map_soho)\n",
        "map_soho"
      ],
      "execution_count": null,
      "outputs": []
    },
    {
      "cell_type": "markdown",
      "metadata": {
        "id": "eSXAQMzeqHtU"
      },
      "source": [
        "### Adding the Outline of the Outbreak Area"
      ]
    },
    {
      "cell_type": "code",
      "metadata": {
        "id": "Het2QIouS5xg"
      },
      "source": [
        "sohoOutline = 'https://raw.githubusercontent.com/Fuenfgeld/DatamanagementAndArchiving/main/GeoCodingTutorial/Soho.geojson'\n",
        "folium.GeoJson(sohoOutline, name=\"geojson\").add_to(map_soho)\n",
        "map_soho"
      ],
      "execution_count": null,
      "outputs": []
    },
    {
      "cell_type": "markdown",
      "metadata": {
        "id": "m2m2s_R_qWbR"
      },
      "source": [
        "### Adding the outline of the brewery and the workhouse"
      ]
    },
    {
      "cell_type": "code",
      "metadata": {
        "id": "e0SF5RD_GBfG"
      },
      "source": [
        "styleBrewery = {'fillColor': '#BCFF5E', 'color': '#384D1C'}\n",
        "styleWorkHouse = {'fillColor': '#FF9898', 'color': '#470031'}\n",
        "\n",
        "workHouseOutline = 'https://raw.githubusercontent.com/Fuenfgeld/DatamanagementAndArchiving/main/GeoCodingTutorial/workHouse.geojson'\n",
        "breweryOutline = 'https://raw.githubusercontent.com/Fuenfgeld/DatamanagementAndArchiving/main/GeoCodingTutorial/brewery.geojson'\n",
        "\n",
        "folium.GeoJson(breweryOutline, name=\"geojson\",style_function=lambda x: styleBrewery ).add_to(map_soho)\n",
        "folium.GeoJson(workHouseOutline, name=\"geojson\",style_function=lambda x: styleWorkHouse ).add_to(map_soho)\n",
        "\n",
        "map_soho "
      ],
      "execution_count": null,
      "outputs": []
    },
    {
      "cell_type": "markdown",
      "metadata": {
        "id": "gZiOm37Rwwci"
      },
      "source": [
        "## References\n",
        "* https://python-visualization.github.io/folium/quickstart.html\n",
        "* https://python-visualization.github.io/folium/"
      ]
    }
  ]
}