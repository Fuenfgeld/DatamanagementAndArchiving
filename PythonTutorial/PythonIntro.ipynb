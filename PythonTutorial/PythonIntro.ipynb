{
  "nbformat": 4,
  "nbformat_minor": 0,
  "metadata": {
    "colab": {
      "name": "PythonIntro.ipynb",
      "provenance": [],
      "authorship_tag": "ABX9TyNHjfwwSwS7/l+eLFI7HNrx",
      "include_colab_link": true
    },
    "kernelspec": {
      "name": "python3",
      "display_name": "Python 3"
    }
  },
  "cells": [
    {
      "cell_type": "markdown",
      "metadata": {
        "id": "view-in-github",
        "colab_type": "text"
      },
      "source": [
        "<a href=\"https://colab.research.google.com/github/Fuenfgeld/DatamanagementAndArchiving/blob/main/PythonIntro.ipynb\" target=\"_parent\"><img src=\"https://colab.research.google.com/assets/colab-badge.svg\" alt=\"Open In Colab\"/></a>"
      ]
    },
    {
      "cell_type": "markdown",
      "metadata": {
        "id": "ADvXBP5ehN_x"
      },
      "source": [
        "**Use of code Cells**\n",
        "\n",
        "The code calls a function called print. The print function takes on \n",
        "argument. The agument of type string. strings are used to store text"
      ]
    },
    {
      "cell_type": "code",
      "metadata": {
        "id": "BTud-s7scpZg",
        "outputId": "99b890a9-21e0-4b3a-a636-3d80159c5db3",
        "colab": {
          "base_uri": "https://localhost:8080/",
          "height": 34
        }
      },
      "source": [
        "print('test')"
      ],
      "execution_count": 1,
      "outputs": [
        {
          "output_type": "stream",
          "text": [
            "test\n"
          ],
          "name": "stdout"
        }
      ]
    },
    {
      "cell_type": "markdown",
      "metadata": {
        "id": "OW3puKzx2LO7"
      },
      "source": [
        "Variablen zuweisung funktionieren so.\n",
        "VariablenName = WertderderVariableZugewiesenWird \n",
        "= ist der Zuweisungsopperator"
      ]
    },
    {
      "cell_type": "code",
      "metadata": {
        "id": "Ye1awPBcc5CO"
      },
      "source": [
        "textVar = 'dieser String wird eine variable mit dem Namen textVar zugewiesen'"
      ],
      "execution_count": 2,
      "outputs": []
    },
    {
      "cell_type": "code",
      "metadata": {
        "id": "tQ2yVDXNkjA_"
      },
      "source": [
        "textVarMultiLine= ''' Wenn ein text über mehrere\n",
        "Zeilen gehen soll dann \n",
        "muss der string mit drei Gänsefüßchen angefangen und beendet werden'''"
      ],
      "execution_count": 3,
      "outputs": []
    },
    {
      "cell_type": "markdown",
      "metadata": {
        "id": "gn0H1EnAi_90"
      },
      "source": [
        "Statt den text zu schreiben kann die Variable der der Text zugewiesen worden ist benutzt werden"
      ]
    },
    {
      "cell_type": "code",
      "metadata": {
        "id": "n6XqIITYi3HI",
        "outputId": "89ad042f-6fab-4c66-ed84-b6eaef43979f",
        "colab": {
          "base_uri": "https://localhost:8080/",
          "height": 34
        }
      },
      "source": [
        "print(textVar)"
      ],
      "execution_count": 4,
      "outputs": [
        {
          "output_type": "stream",
          "text": [
            "dieser String wird eine variable mit dem Namen textVar zugewiesen\n"
          ],
          "name": "stdout"
        }
      ]
    },
    {
      "cell_type": "code",
      "metadata": {
        "id": "dMZMB-xCjOFA",
        "outputId": "0beecf35-2497-439e-dc60-947c4658e405",
        "colab": {
          "base_uri": "https://localhost:8080/",
          "height": 68
        }
      },
      "source": [
        "print(textVarMultiLine)"
      ],
      "execution_count": 5,
      "outputs": [
        {
          "output_type": "stream",
          "text": [
            " Wenn ein text über mehrere\n",
            "Zeilen gehen soll dann \n",
            "muss der string mit drei Gänsefüßchen angefangen und beendet werden\n"
          ],
          "name": "stdout"
        }
      ]
    },
    {
      "cell_type": "markdown",
      "metadata": {
        "id": "id65vuLdmYFB"
      },
      "source": [
        "Zahlen werden ohne Anführungszeichen geschrieben\n"
      ]
    },
    {
      "cell_type": "code",
      "metadata": {
        "id": "2KHg2b93k8A2"
      },
      "source": [
        "num = 5"
      ],
      "execution_count": 6,
      "outputs": []
    },
    {
      "cell_type": "markdown",
      "metadata": {
        "id": "5MDz69ZnoGmr"
      },
      "source": [
        "Mathematische Operationen können mit ihen ausgeführt werden"
      ]
    },
    {
      "cell_type": "code",
      "metadata": {
        "id": "GdeOCt_4la7q",
        "outputId": "3c982424-c988-4ee6-ce00-0d679d9c5781",
        "colab": {
          "base_uri": "https://localhost:8080/",
          "height": 34
        }
      },
      "source": [
        "addition  = num + 1\n",
        "print(addition)"
      ],
      "execution_count": 13,
      "outputs": [
        {
          "output_type": "stream",
          "text": [
            "6\n"
          ],
          "name": "stdout"
        }
      ]
    },
    {
      "cell_type": "code",
      "metadata": {
        "id": "DNQUgNw_obtO",
        "outputId": "45400b20-2b27-4e42-a32f-c9af3c9c0425",
        "colab": {
          "base_uri": "https://localhost:8080/",
          "height": 34
        }
      },
      "source": [
        "subtraktion = num - 2\n",
        "print(subtraktion)"
      ],
      "execution_count": 14,
      "outputs": [
        {
          "output_type": "stream",
          "text": [
            "3\n"
          ],
          "name": "stdout"
        }
      ]
    },
    {
      "cell_type": "code",
      "metadata": {
        "id": "JhTzJtlToxpA",
        "outputId": "37fcc202-6d20-48d3-a320-5bbf1711894a",
        "colab": {
          "base_uri": "https://localhost:8080/",
          "height": 34
        }
      },
      "source": [
        "multiplikation = num * num\n",
        "print(multiplikation)"
      ],
      "execution_count": 15,
      "outputs": [
        {
          "output_type": "stream",
          "text": [
            "25\n"
          ],
          "name": "stdout"
        }
      ]
    },
    {
      "cell_type": "code",
      "metadata": {
        "id": "_53ljTgSpFU4",
        "outputId": "d4d2b034-415f-495c-f920-799dd5d4a3a3",
        "colab": {
          "base_uri": "https://localhost:8080/",
          "height": 34
        }
      },
      "source": [
        "potenzierung = num ** 3  #steht für 5 hoch 3\n",
        "print(potenzierung)"
      ],
      "execution_count": 17,
      "outputs": [
        {
          "output_type": "stream",
          "text": [
            "125\n"
          ],
          "name": "stdout"
        }
      ]
    },
    {
      "cell_type": "code",
      "metadata": {
        "id": "IE1sBfIipbDv",
        "outputId": "f393b2f1-7258-4ea4-d875-75fd604ed0e9",
        "colab": {
          "base_uri": "https://localhost:8080/",
          "height": 34
        }
      },
      "source": [
        "division = 20/num\n",
        "print(division)"
      ],
      "execution_count": 18,
      "outputs": [
        {
          "output_type": "stream",
          "text": [
            "4.0\n"
          ],
          "name": "stdout"
        }
      ]
    },
    {
      "cell_type": "markdown",
      "metadata": {
        "id": "4f3TZWPioEdL"
      },
      "source": [
        ""
      ]
    },
    {
      "cell_type": "code",
      "metadata": {
        "id": "wWpNFNMMlfpV"
      },
      "source": [
        ""
      ],
      "execution_count": 7,
      "outputs": []
    },
    {
      "cell_type": "markdown",
      "metadata": {
        "id": "1KIcxcT0mfYN"
      },
      "source": [
        "Werte wie Wahr und Falsch (gennannt Booleans) werden auf folgende Weise dargestellt\n"
      ]
    },
    {
      "cell_type": "code",
      "metadata": {
        "id": "fcqzACSQmvVa"
      },
      "source": [
        "stimmt = True"
      ],
      "execution_count": 8,
      "outputs": []
    },
    {
      "cell_type": "code",
      "metadata": {
        "id": "EimhUwZXmziQ"
      },
      "source": [
        "stimmtNicht = False"
      ],
      "execution_count": 9,
      "outputs": []
    },
    {
      "cell_type": "markdown",
      "metadata": {
        "id": "6_afPJj3zFEp"
      },
      "source": [
        "Booleans können miteinander kobiniert werden und ergeben ihrerseits Booleans.\n",
        "\n",
        "\n"
      ]
    },
    {
      "cell_type": "markdown",
      "metadata": {
        "id": "Grvn3l1O0kyu"
      },
      "source": [
        "and = Beide Inputs müssen wahr sein"
      ]
    },
    {
      "cell_type": "code",
      "metadata": {
        "id": "Rtg2bDwSzOi7",
        "outputId": "08242ab8-d0a4-4ae1-ce11-285b0742bfa9",
        "colab": {
          "base_uri": "https://localhost:8080/",
          "height": 34
        }
      },
      "source": [
        "True and True"
      ],
      "execution_count": 22,
      "outputs": [
        {
          "output_type": "execute_result",
          "data": {
            "text/plain": [
              "True"
            ]
          },
          "metadata": {
            "tags": []
          },
          "execution_count": 22
        }
      ]
    },
    {
      "cell_type": "code",
      "metadata": {
        "id": "up1fY9NUzOYv",
        "outputId": "ffd30524-29b2-439c-fde0-2c9edb9aaaa5",
        "colab": {
          "base_uri": "https://localhost:8080/",
          "height": 34
        }
      },
      "source": [
        "True and False"
      ],
      "execution_count": 23,
      "outputs": [
        {
          "output_type": "execute_result",
          "data": {
            "text/plain": [
              "False"
            ]
          },
          "metadata": {
            "tags": []
          },
          "execution_count": 23
        }
      ]
    },
    {
      "cell_type": "code",
      "metadata": {
        "id": "-4xT8FOE1Hk1",
        "outputId": "c8faa72e-4d40-4a0c-f8f6-c3452d2a4dab",
        "colab": {
          "base_uri": "https://localhost:8080/",
          "height": 34
        }
      },
      "source": [
        "False and False"
      ],
      "execution_count": 27,
      "outputs": [
        {
          "output_type": "execute_result",
          "data": {
            "text/plain": [
              "False"
            ]
          },
          "metadata": {
            "tags": []
          },
          "execution_count": 27
        }
      ]
    },
    {
      "cell_type": "markdown",
      "metadata": {
        "id": "xT_Z2CDh0qPz"
      },
      "source": [
        "not = Input wird umgedreht\n",
        "    * wahr wird falsch \n",
        "    * falsche wird wahr"
      ]
    },
    {
      "cell_type": "code",
      "metadata": {
        "id": "GczhLyDZ0yEy",
        "outputId": "3d4a4869-c296-42ec-d782-83458eb247ed",
        "colab": {
          "base_uri": "https://localhost:8080/",
          "height": 34
        }
      },
      "source": [
        "not True"
      ],
      "execution_count": 24,
      "outputs": [
        {
          "output_type": "execute_result",
          "data": {
            "text/plain": [
              "False"
            ]
          },
          "metadata": {
            "tags": []
          },
          "execution_count": 24
        }
      ]
    },
    {
      "cell_type": "code",
      "metadata": {
        "id": "UOzVtSqE0x2D",
        "outputId": "45d6b1ce-39dc-4b78-f169-00c7c2330012",
        "colab": {
          "base_uri": "https://localhost:8080/",
          "height": 34
        }
      },
      "source": [
        "not False"
      ],
      "execution_count": 25,
      "outputs": [
        {
          "output_type": "execute_result",
          "data": {
            "text/plain": [
              "True"
            ]
          },
          "metadata": {
            "tags": []
          },
          "execution_count": 25
        }
      ]
    },
    {
      "cell_type": "markdown",
      "metadata": {
        "id": "9Gqvr71a098G"
      },
      "source": [
        "or = eines der Inputs muss wahr sein um wahr als ergebniss zu bekommen\n"
      ]
    },
    {
      "cell_type": "code",
      "metadata": {
        "id": "dC6TutBy0_sj",
        "outputId": "fe897390-67d5-47f1-eba1-c5628722eb30",
        "colab": {
          "base_uri": "https://localhost:8080/",
          "height": 34
        }
      },
      "source": [
        "True or True"
      ],
      "execution_count": 26,
      "outputs": [
        {
          "output_type": "execute_result",
          "data": {
            "text/plain": [
              "True"
            ]
          },
          "metadata": {
            "tags": []
          },
          "execution_count": 26
        }
      ]
    },
    {
      "cell_type": "code",
      "metadata": {
        "id": "dQlNLJIg1AeG",
        "outputId": "c535df7e-1e37-4110-ac1a-23577bfaaeb4",
        "colab": {
          "base_uri": "https://localhost:8080/",
          "height": 34
        }
      },
      "source": [
        "True or False"
      ],
      "execution_count": 28,
      "outputs": [
        {
          "output_type": "execute_result",
          "data": {
            "text/plain": [
              "True"
            ]
          },
          "metadata": {
            "tags": []
          },
          "execution_count": 28
        }
      ]
    },
    {
      "cell_type": "code",
      "metadata": {
        "id": "fh852zAP1OHu",
        "outputId": "50875ec0-9801-422a-92fe-573daf3d0d22",
        "colab": {
          "base_uri": "https://localhost:8080/",
          "height": 34
        }
      },
      "source": [
        "False or False"
      ],
      "execution_count": 29,
      "outputs": [
        {
          "output_type": "execute_result",
          "data": {
            "text/plain": [
              "False"
            ]
          },
          "metadata": {
            "tags": []
          },
          "execution_count": 29
        }
      ]
    },
    {
      "cell_type": "markdown",
      "metadata": {
        "id": "zRHLznZp1tbO"
      },
      "source": [
        "Booleans können kombiniert werden"
      ]
    },
    {
      "cell_type": "code",
      "metadata": {
        "id": "_sBGZrZ_11ZU",
        "outputId": "f2a1cf61-393c-4fdb-d1d3-ec3e2ae0966e",
        "colab": {
          "base_uri": "https://localhost:8080/",
          "height": 34
        }
      },
      "source": [
        "(stimmt and not stimmtNicht) or (not stimmt and stimmtNicht)"
      ],
      "execution_count": 30,
      "outputs": [
        {
          "output_type": "execute_result",
          "data": {
            "text/plain": [
              "True"
            ]
          },
          "metadata": {
            "tags": []
          },
          "execution_count": 30
        }
      ]
    },
    {
      "cell_type": "markdown",
      "metadata": {
        "id": "Sx4gdeljnEDw"
      },
      "source": [
        "Hinweis in Python spiel Lehrzeichen eine wichtige Rolle. Python benutzt Lehrzeichen um zu sehen welche Statements zusammengehören"
      ]
    },
    {
      "cell_type": "code",
      "metadata": {
        "id": "nZz6R7Zpm66_",
        "outputId": "247833a8-27fd-466e-effd-b809934c1edb",
        "colab": {
          "base_uri": "https://localhost:8080/",
          "height": 130
        }
      },
      "source": [
        "'das ist auf der richtigen höhe' \n",
        " '<- hier gibt es ein Leerzeichen das ein Fehler auslöst'"
      ],
      "execution_count": 10,
      "outputs": [
        {
          "output_type": "error",
          "ename": "IndentationError",
          "evalue": "ignored",
          "traceback": [
            "\u001b[0;36m  File \u001b[0;32m\"<ipython-input-10-52d0988e82b8>\"\u001b[0;36m, line \u001b[0;32m2\u001b[0m\n\u001b[0;31m    '<- hier gibt es ein Leerzeichen das ein Fehler auslöst'\u001b[0m\n\u001b[0m    ^\u001b[0m\n\u001b[0;31mIndentationError\u001b[0m\u001b[0;31m:\u001b[0m unexpected indent\n"
          ]
        }
      ]
    },
    {
      "cell_type": "markdown",
      "metadata": {
        "id": "ERIrQ1-1pwxw"
      },
      "source": [
        "***Programm Statements***"
      ]
    },
    {
      "cell_type": "markdown",
      "metadata": {
        "id": "DPvWqwAzr0IO"
      },
      "source": [
        "*If else* Statement \n",
        "wenn dann ... sonst das ... ist ein statement dass eine expression evaluiert wenn diese wahr ist dann wird der *if* Block von Programm Statement ausgeführt wenn nicht wird der *else* Block von Programm statement ausgeführt\n",
        "\n",
        "Python benutzt keine Klammern um Programm Blöcke zu deffinieren sondern benutzt die Anzahl der Lehrzeichen die vor den Programm Statements stehen. Wenn ein programmstatement auf der gleichen Höhe steht wie ein anderes und nicht unterbrochen sind gehören diese zusammen\n",
        "\n",
        "klassische Programmiersparche:\n",
        "```\n",
        "if(statemen){\n",
        "\n",
        "  hier passiert was\n",
        "\n",
        "  if(statement){\n",
        "\n",
        "    hier passiert etwas anderes\n",
        "  }\n",
        "}\n",
        "```\n",
        "\n",
        "Python\"\"\n",
        "```\n",
        "if stetement:\n",
        "\n",
        "  hier passiert was\n",
        "\n",
        "  if statement:\n",
        "\n",
        "    hier passiert etwas anderes\n",
        "```    \n"
      ]
    },
    {
      "cell_type": "code",
      "metadata": {
        "id": "9SzLSH8bn5x3",
        "outputId": "252a87df-28f3-4123-8a0a-62f78a1e2210",
        "colab": {
          "base_uri": "https://localhost:8080/",
          "height": 51
        }
      },
      "source": [
        "stimmt = True\n",
        "stimmtNicht = False\n",
        "i = 3\n",
        "\n",
        "if stimmt:\n",
        "  #Programm Block 1\n",
        "  print('trifft zu')\n",
        "  i = i + 2\n",
        "\n",
        "else: \n",
        "  #Programm Block 2\n",
        "  print('trifft nicht zu')\n",
        "  i = i - 2\n",
        "\n",
        "print(i)  "
      ],
      "execution_count": 21,
      "outputs": [
        {
          "output_type": "stream",
          "text": [
            "trifft zu\n",
            "5\n"
          ],
          "name": "stdout"
        }
      ]
    },
    {
      "cell_type": "code",
      "metadata": {
        "id": "JY2b9hQKtAKQ"
      },
      "source": [
        ""
      ],
      "execution_count": null,
      "outputs": []
    }
  ]
}