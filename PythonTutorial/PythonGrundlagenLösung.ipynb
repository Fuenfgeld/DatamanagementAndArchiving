{
  "nbformat": 4,
  "nbformat_minor": 0,
  "metadata": {
    "colab": {
      "name": "PythonGrundlagenLösung.ipynb",
      "provenance": [],
      "authorship_tag": "ABX9TyNTt9b+aeNBArmOAvZCzwIo",
      "include_colab_link": true
    },
    "kernelspec": {
      "name": "python3",
      "display_name": "Python 3"
    }
  },
  "cells": [
    {
      "cell_type": "markdown",
      "metadata": {
        "id": "view-in-github",
        "colab_type": "text"
      },
      "source": [
        "<a href=\"https://colab.research.google.com/github/Fuenfgeld/DatamanagementAndArchiving/blob/main/PythonTutorial/PythonGrundlagenL%C3%B6sung.ipynb\" target=\"_parent\"><img src=\"https://colab.research.google.com/assets/colab-badge.svg\" alt=\"Open In Colab\"/></a>"
      ]
    },
    {
      "cell_type": "markdown",
      "metadata": {
        "id": "On7twTzO_wcP"
      },
      "source": [
        "Drucken sie die Zahlen von 1 bis 10 mit Hilfe einer Schleife"
      ]
    },
    {
      "cell_type": "code",
      "metadata": {
        "id": "BdKGkptz_mZ8"
      },
      "source": [
        "for i in range(10):\n",
        "  print(i+1)"
      ],
      "execution_count": null,
      "outputs": []
    },
    {
      "cell_type": "markdown",
      "metadata": {
        "id": "dwjG7QCbASkZ"
      },
      "source": [
        "Schreiben sie eine Funktion die den BMI errechnet. Die Formel dafür ist BMI = Gewicht (in kg)/ Größeˆ2 (in m) "
      ]
    },
    {
      "cell_type": "code",
      "metadata": {
        "id": "Y5iovDse_5ot"
      },
      "source": [
        "def errechneBMI(inputGewicht, inputGroesse):\n",
        "  #Programm Block Start\n",
        "  outputBMI = inputGewicht / (inputGroesse**2)\n",
        "  return outputBMI #Programm Block Ende"
      ],
      "execution_count": null,
      "outputs": []
    },
    {
      "cell_type": "markdown",
      "metadata": {
        "id": "D6BhZbybBFDN"
      },
      "source": [
        "Benutzen sie die Funktion um die BMIs von Harald Müller und seiner Frau Gerda zu errechnen.\n",
        "\n",
        "\n",
        "*   Harald, Gewicht = 90kg, Größe = 1,7 m\n",
        "*   Gerda, Gewicht = 70kg, Größe = 1,6 m\n",
        " "
      ]
    },
    {
      "cell_type": "code",
      "metadata": {
        "id": "QUb6kG2FCLIl"
      },
      "source": [
        "# Harald\n",
        "bmiHarald = errechneBMI(90,1.7)\n",
        "bmiGerda = errechneBMI(70,1.6)\n",
        "\n",
        "print(f'Harald hat ein BMI von {bmiHarald}, Gerda hat ein BMI von {bmiGerda}.')"
      ],
      "execution_count": null,
      "outputs": []
    },
    {
      "cell_type": "markdown",
      "metadata": {
        "id": "aUWOO4ugEObt"
      },
      "source": [
        "Schreiben sie ein Analyse Programm dass Fettleibig ausgibt wenn der BMI größer als 30 ist, Übergewicht ausgibt wenn der BMI zwischen 30 und 25 ist, Normalgewicht ausgibt wenn das Gewicht zwischen 25 – 20 ist, und Untergewicht ausgibt wenn der BMI unter 20 ist. Analysieren sie den BMI von Gerda und Harald."
      ]
    },
    {
      "cell_type": "code",
      "metadata": {
        "id": "lBITu2FsCwvq"
      },
      "source": [
        "def gewichtStatus(bmi):\n",
        "\n",
        "  if bmi > 30:\n",
        "    print('Patient ist fettleibig')\n",
        "  elif bmi > 25:\n",
        "    print('Patient ist übergewichtig')\n",
        "  elif bmi > 20:\n",
        "    print('Patient ist normalgewichtig')\n",
        "  else:  \n",
        "    print('Patient ist untergewichtig')\n",
        "      "
      ],
      "execution_count": null,
      "outputs": []
    },
    {
      "cell_type": "code",
      "metadata": {
        "id": "ZqYH1amqEp95"
      },
      "source": [
        "print('Gerda:')\n",
        "gewichtStatus(bmiGerda) \n",
        "print('Harald:')\n",
        "gewichtStatus(bmiHarald)"
      ],
      "execution_count": null,
      "outputs": []
    },
    {
      "cell_type": "markdown",
      "metadata": {
        "id": "hn-wqonXH_36"
      },
      "source": [
        "Schreiben sie eine Suchfunktion um in dem Array\n",
        "die Zahlen 3,7,10 zu finden."
      ]
    },
    {
      "cell_type": "code",
      "metadata": {
        "id": "1tgG7IlYFEfk"
      },
      "source": [
        "suchArray = [1,3,4,6,7,9,11]"
      ],
      "execution_count": null,
      "outputs": []
    },
    {
      "cell_type": "code",
      "metadata": {
        "id": "tugYYd-bID9O"
      },
      "source": [
        "zahlen = (3,7,10)"
      ],
      "execution_count": null,
      "outputs": []
    },
    {
      "cell_type": "code",
      "metadata": {
        "id": "gIa2Ivi0G8uW"
      },
      "source": [
        "def Suche(inArray, suchZahl):\n",
        "  for ind in range(len(inArray)):\n",
        "     if inArray[ind] == suchZahl:\n",
        "       return ind\n",
        "\n",
        "  return -1"
      ],
      "execution_count": null,
      "outputs": []
    },
    {
      "cell_type": "code",
      "metadata": {
        "id": "weko9XafJQDM"
      },
      "source": [
        "for suchZahl in zahlen:\n",
        "  ergebnisIndex = Suche(suchArray,suchZahl)\n",
        "  if ergebnisIndex < 0:\n",
        "    print(f'Die Zahl {suchZahl} ist nicht in dem Array')\n",
        "  else:\n",
        "    print(f'Die Zahl {suchZahl} ist an Position {ergebnisIndex}')"
      ],
      "execution_count": null,
      "outputs": []
    },
    {
      "cell_type": "markdown",
      "metadata": {
        "id": "XfHDUSjMOAe6"
      },
      "source": [
        "Sie wollen alle Werte von Harald und Gerda in einer Datenstruktur bündeln. Welche Datenstruktur wählen sie?\n",
        "Implementieren sie diese. "
      ]
    },
    {
      "cell_type": "code",
      "metadata": {
        "id": "zkb9TWfOOewo"
      },
      "source": [
        "# Dictionary\n",
        "Harald = {}\n",
        "Harald['Gewicht'] = 90\n",
        "Harald['Größe'] = 1.7\n",
        "Harald['BMI'] = bmiHarald\n",
        "print(Harald)"
      ],
      "execution_count": null,
      "outputs": []
    },
    {
      "cell_type": "code",
      "metadata": {
        "id": "PuP6Vx35PDi-"
      },
      "source": [
        "# class\n",
        "class Patient:\n",
        "  def __init__(self, inName, inWeight, inHeight):\n",
        "    self.name = inName\n",
        "    self.weight = inWeight\n",
        "    self.height = inHeight\n",
        "    self.bmi = errechneBMI(self.weight, self.height)\n",
        "\n",
        "  def giveInfo(self):\n",
        "    print(f'Mein Name ist {self.name}, ich wiege {self.weight}kg, ich bin {self.height}m groß, mein BMI ist {self.bmi}')   \n",
        "\n"
      ],
      "execution_count": null,
      "outputs": []
    },
    {
      "cell_type": "code",
      "metadata": {
        "id": "F2k8BJXrQpmP"
      },
      "source": [
        "patientHaraldObjekt = Patient('Harald',90,1.7)"
      ],
      "execution_count": null,
      "outputs": []
    },
    {
      "cell_type": "code",
      "metadata": {
        "id": "VzzoR9guRBHa"
      },
      "source": [
        "patientHaraldObjekt.giveInfo()"
      ],
      "execution_count": null,
      "outputs": []
    },
    {
      "cell_type": "code",
      "metadata": {
        "id": "nbh0ntPNREnA"
      },
      "source": [
        ""
      ],
      "execution_count": null,
      "outputs": []
    }
  ]
}