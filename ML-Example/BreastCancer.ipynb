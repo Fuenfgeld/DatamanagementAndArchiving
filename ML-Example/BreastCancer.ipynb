{
  "nbformat": 4,
  "nbformat_minor": 0,
  "metadata": {
    "colab": {
      "name": "BreastCancer.ipynb",
      "provenance": [],
      "collapsed_sections": [],
      "authorship_tag": "ABX9TyP9egprG1QrTWbAegb4e6uh",
      "include_colab_link": true
    },
    "kernelspec": {
      "display_name": "Python 3",
      "name": "python3"
    }
  },
  "cells": [
    {
      "cell_type": "markdown",
      "metadata": {
        "id": "view-in-github",
        "colab_type": "text"
      },
      "source": [
        "<a href=\"https://colab.research.google.com/github/Fuenfgeld/DatamanagementAndArchiving/blob/main/ML-Example/BreastCancer.ipynb\" target=\"_parent\"><img src=\"https://colab.research.google.com/assets/colab-badge.svg\" alt=\"Open In Colab\"/></a>"
      ]
    },
    {
      "cell_type": "code",
      "metadata": {
        "id": "0PZLLsxf6fuo"
      },
      "source": [
        "from google.colab import drive\n",
        "drive.mount('/content/drive')"
      ],
      "execution_count": null,
      "outputs": []
    },
    {
      "cell_type": "code",
      "metadata": {
        "id": "qnRDUWAw6tih"
      },
      "source": [
        "import pandas as pd\n",
        "import seaborn as sns\n",
        "import matplotlib.pyplot as plt\n",
        "import numpy as np\n"
      ],
      "execution_count": null,
      "outputs": []
    },
    {
      "cell_type": "code",
      "metadata": {
        "id": "yVuJ3h89BT-3"
      },
      "source": [
        "# will make plot outputs appear and stored within the notebook.\n",
        "%matplotlib inline"
      ],
      "execution_count": null,
      "outputs": []
    },
    {
      "cell_type": "markdown",
      "metadata": {
        "id": "ZBVqH13kcOD8"
      },
      "source": [
        "# Load Data"
      ]
    },
    {
      "cell_type": "code",
      "metadata": {
        "id": "WhUv2XCI63mA"
      },
      "source": [
        "cancerDF = pd.read_csv('/content/drive/... Path to google Drive Folder Containting the CSV File')  # <- change that to you google drive folder. For example '/content/drive/My Drive/BreastCancer.csv'"
      ],
      "execution_count": null,
      "outputs": []
    },
    {
      "cell_type": "code",
      "metadata": {
        "id": "ZQt_ZwJR7h5P"
      },
      "source": [
        "cancerDF.head()"
      ],
      "execution_count": null,
      "outputs": []
    },
    {
      "cell_type": "code",
      "metadata": {
        "id": "JDJB02UNrCFZ"
      },
      "source": [
        "cancerDF = cancerDF.drop(columns=['Unnamed: 0'])"
      ],
      "execution_count": null,
      "outputs": []
    },
    {
      "cell_type": "code",
      "metadata": {
        "id": "86aVs5Xn7nNB"
      },
      "source": [
        "cancerDF.dtypes"
      ],
      "execution_count": null,
      "outputs": []
    },
    {
      "cell_type": "code",
      "metadata": {
        "id": "q-bggE-973gU"
      },
      "source": [
        "cancerDF.describe()"
      ],
      "execution_count": null,
      "outputs": []
    },
    {
      "cell_type": "code",
      "metadata": {
        "id": "jEmjQbxz-bF_"
      },
      "source": [
        "cancerDF.shape"
      ],
      "execution_count": null,
      "outputs": []
    },
    {
      "cell_type": "code",
      "metadata": {
        "id": "YJZbZfdx-0pH"
      },
      "source": [
        "cancerDF.nunique(axis=0)"
      ],
      "execution_count": null,
      "outputs": []
    },
    {
      "cell_type": "markdown",
      "metadata": {
        "id": "kED2LDGMcYzx"
      },
      "source": [
        "# Plots"
      ]
    },
    {
      "cell_type": "code",
      "metadata": {
        "id": "01SA1h5N_CKV"
      },
      "source": [
        "cancerDF['mean radius'].plot(kind='hist', bins=20, figsize=(12,6))"
      ],
      "execution_count": null,
      "outputs": []
    },
    {
      "cell_type": "code",
      "metadata": {
        "id": "QyYz2A1bAO9Q"
      },
      "source": [
        "# Generating the correlating matrix\n",
        "corr = cancerDF.corr()\n",
        "plt.figure(figsize=(30, 15))\n",
        "# Generating the correlation heat-map\n",
        "sns.heatmap(corr, annot=True)"
      ],
      "execution_count": null,
      "outputs": []
    },
    {
      "cell_type": "code",
      "metadata": {
        "id": "1i_yD-yDC41O"
      },
      "source": [
        "list(cancerDF)"
      ],
      "execution_count": null,
      "outputs": []
    },
    {
      "cell_type": "code",
      "metadata": {
        "id": "CJ57kMQIi7Yl"
      },
      "source": [
        "meansDF = cancerDF[['mean radius',\n",
        " 'mean texture',\n",
        " 'mean perimeter',\n",
        " 'mean area',\n",
        " 'mean smoothness',\n",
        " 'mean compactness',\n",
        " 'mean concavity',\n",
        " 'mean concave points',\n",
        " 'mean symmetry',\n",
        " 'mean fractal dimension',\n",
        " 'target']]"
      ],
      "execution_count": null,
      "outputs": []
    },
    {
      "cell_type": "code",
      "metadata": {
        "id": "1ch_fp0YjLnS"
      },
      "source": [
        "sns.set_theme(style=\"ticks\")\n",
        "\n",
        "sns.pairplot(meansDF, hue=\"target\")"
      ],
      "execution_count": null,
      "outputs": []
    },
    {
      "cell_type": "markdown",
      "metadata": {
        "id": "yM74gUADxD_l"
      },
      "source": [
        "# Maschine Learning\n"
      ]
    },
    {
      "cell_type": "code",
      "metadata": {
        "id": "OUxONLNOxVPS"
      },
      "source": [
        "X = cancerDF[['mean radius',\n",
        " 'mean texture',\n",
        " 'mean perimeter',\n",
        " 'mean area',\n",
        " 'mean smoothness',\n",
        " 'mean compactness',\n",
        " 'mean concavity',\n",
        " 'mean concave points',\n",
        " 'mean symmetry',\n",
        " 'mean fractal dimension',\n",
        " 'radius error',\n",
        " 'texture error',\n",
        " 'perimeter error',\n",
        " 'area error',\n",
        " 'smoothness error',\n",
        " 'compactness error',\n",
        " 'concavity error',\n",
        " 'concave points error',\n",
        " 'symmetry error',\n",
        " 'fractal dimension error',\n",
        " 'worst radius',\n",
        " 'worst texture',\n",
        " 'worst perimeter',\n",
        " 'worst area',\n",
        " 'worst smoothness',\n",
        " 'worst compactness',\n",
        " 'worst concavity',\n",
        " 'worst concave points',\n",
        " 'worst symmetry',\n",
        " 'worst fractal dimension']]\n",
        "\n",
        "Y = cancerDF[['target']]"
      ],
      "execution_count": null,
      "outputs": []
    },
    {
      "cell_type": "code",
      "metadata": {
        "id": "TMio18Jmjtur"
      },
      "source": [
        "from sklearn.model_selection import train_test_split\n",
        "X_train, X_test, Y_train, Y_test = train_test_split(X, Y, test_size = 0.25, random_state = 0)"
      ],
      "execution_count": null,
      "outputs": []
    },
    {
      "cell_type": "markdown",
      "metadata": {
        "id": "-2HOD6BPldCG"
      },
      "source": [
        "## Decision Tree"
      ]
    },
    {
      "cell_type": "code",
      "metadata": {
        "id": "sAclcTz8lg7l"
      },
      "source": [
        "from sklearn import tree\n",
        "classifier = tree.DecisionTreeClassifier(max_depth=4)  # limit depth of tree\n",
        "classifier.fit(X_train, Y_train)"
      ],
      "execution_count": null,
      "outputs": []
    },
    {
      "cell_type": "code",
      "metadata": {
        "id": "Rn8jX9AslqHe"
      },
      "source": [
        "Y_pred = classifier.predict(X_test)"
      ],
      "execution_count": null,
      "outputs": []
    },
    {
      "cell_type": "code",
      "metadata": {
        "id": "Jwjx0gSolxkT"
      },
      "source": [
        "from sklearn.metrics import confusion_matrix\n",
        "cm = confusion_matrix(Y_test, Y_pred)"
      ],
      "execution_count": null,
      "outputs": []
    },
    {
      "cell_type": "code",
      "metadata": {
        "id": "ty0i23r1l2yy"
      },
      "source": [
        "cm"
      ],
      "execution_count": null,
      "outputs": []
    },
    {
      "cell_type": "code",
      "metadata": {
        "id": "h642W0aql88F"
      },
      "source": [
        "import sklearn.metrics\n",
        "sklearn.metrics.accuracy_score(Y_test, Y_pred)"
      ],
      "execution_count": null,
      "outputs": []
    },
    {
      "cell_type": "code",
      "metadata": {
        "id": "Q8oPTcWhm345"
      },
      "source": [
        "fn=['mean radius',\n",
        " 'mean texture',\n",
        " 'mean perimeter',\n",
        " 'mean area',\n",
        " 'mean smoothness',\n",
        " 'mean compactness',\n",
        " 'mean concavity',\n",
        " 'mean concave points',\n",
        " 'mean symmetry',\n",
        " 'mean fractal dimension',\n",
        " 'radius error',\n",
        " 'texture error',\n",
        " 'perimeter error',\n",
        " 'area error',\n",
        " 'smoothness error',\n",
        " 'compactness error',\n",
        " 'concavity error',\n",
        " 'concave points error',\n",
        " 'symmetry error',\n",
        " 'fractal dimension error',\n",
        " 'worst radius',\n",
        " 'worst texture',\n",
        " 'worst perimeter',\n",
        " 'worst area',\n",
        " 'worst smoothness',\n",
        " 'worst compactness',\n",
        " 'worst concavity',\n",
        " 'worst concave points',\n",
        " 'worst symmetry',\n",
        " 'worst fractal dimension']\n",
        "cn=['benign','malignant']"
      ],
      "execution_count": null,
      "outputs": []
    },
    {
      "cell_type": "code",
      "metadata": {
        "id": "D45pAW2em70p"
      },
      "source": [
        "import graphviz\n",
        "\n",
        "dot_data = tree.export_graphviz(classifier, out_file=None, \n",
        "                                feature_names = fn, \n",
        "                                class_names=cn,\n",
        "                                filled=True)\n",
        "\n",
        "# Draw graph\n",
        "graph = graphviz.Source(dot_data, format=\"png\") \n",
        "graph"
      ],
      "execution_count": null,
      "outputs": []
    },
    {
      "cell_type": "code",
      "metadata": {
        "id": "jaYhhN33nK6i"
      },
      "source": [
        "#!pip install dtreeviz"
      ],
      "execution_count": null,
      "outputs": []
    },
    {
      "cell_type": "code",
      "metadata": {
        "id": "3a-aGI6BnQTU"
      },
      "source": [
        "from dtreeviz.trees import dtreeviz # remember to load the package\n",
        "\n",
        "viz = dtreeviz(classifier, X.values, np.transpose(Y.values)[0],\n",
        "                target_name=\"target\",\n",
        "                feature_names= fn,\n",
        "                class_names=[\"malignant\", \"benign\"], \n",
        "                scale=2, \n",
        "                orientation='LR') \n",
        "\n",
        "viz"
      ],
      "execution_count": null,
      "outputs": []
    }
  ]
}