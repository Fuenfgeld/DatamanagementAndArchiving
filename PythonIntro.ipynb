{
  "nbformat": 4,
  "nbformat_minor": 0,
  "metadata": {
    "colab": {
      "name": "PythonIntro.ipynb",
      "provenance": [],
      "authorship_tag": "ABX9TyMGcDYQwtT59xFsbvHM1x5x",
      "include_colab_link": true
    },
    "kernelspec": {
      "name": "python3",
      "display_name": "Python 3"
    }
  },
  "cells": [
    {
      "cell_type": "markdown",
      "metadata": {
        "id": "view-in-github",
        "colab_type": "text"
      },
      "source": [
        "<a href=\"https://colab.research.google.com/github/Fuenfgeld/DatamanagementAndArchiving/blob/main/PythonIntro.ipynb\" target=\"_parent\"><img src=\"https://colab.research.google.com/assets/colab-badge.svg\" alt=\"Open In Colab\"/></a>"
      ]
    },
    {
      "cell_type": "markdown",
      "metadata": {
        "id": "ADvXBP5ehN_x"
      },
      "source": [
        "**Use of code Cells**\n",
        "\n",
        "The code calls a function called print. The print function takes on \n",
        "argument. The agument of type string. strings are used to store text"
      ]
    },
    {
      "cell_type": "code",
      "metadata": {
        "id": "BTud-s7scpZg",
        "outputId": "b4a8779d-b23b-4000-e52e-8d6efed9bbf7",
        "colab": {
          "base_uri": "https://localhost:8080/",
          "height": 34
        }
      },
      "source": [
        "print('test')"
      ],
      "execution_count": 1,
      "outputs": [
        {
          "output_type": "stream",
          "text": [
            "test\n"
          ],
          "name": "stdout"
        }
      ]
    },
    {
      "cell_type": "code",
      "metadata": {
        "id": "Ye1awPBcc5CO"
      },
      "source": [
        "textVar = 'dieser String wird eine variable mit dem Namen textVar zugewiesen'"
      ],
      "execution_count": 3,
      "outputs": []
    },
    {
      "cell_type": "code",
      "metadata": {
        "id": "tQ2yVDXNkjA_"
      },
      "source": [
        "textVarMultiLine= ''' Wenn ein text über mehrere\n",
        "Zeilen gehen soll dann \n",
        "muss der string mit drei Gänsefüßchen angefangen und beendet werden'''"
      ],
      "execution_count": 6,
      "outputs": []
    },
    {
      "cell_type": "markdown",
      "metadata": {
        "id": "gn0H1EnAi_90"
      },
      "source": [
        "Statt den text zu schreiben kann die Variable der der Text zugewiesen worden ist benutzt werden"
      ]
    },
    {
      "cell_type": "code",
      "metadata": {
        "id": "n6XqIITYi3HI",
        "outputId": "a804533e-c7c5-46df-a1cf-e59a434bd834",
        "colab": {
          "base_uri": "https://localhost:8080/",
          "height": 34
        }
      },
      "source": [
        "print(textVar)"
      ],
      "execution_count": 4,
      "outputs": [
        {
          "output_type": "stream",
          "text": [
            "dieser String wird eine variable mit dem Namen textVar zugewiesen\n"
          ],
          "name": "stdout"
        }
      ]
    },
    {
      "cell_type": "code",
      "metadata": {
        "id": "dMZMB-xCjOFA",
        "outputId": "4d1f0697-92fe-44e1-dbb6-f27b51b692d4",
        "colab": {
          "base_uri": "https://localhost:8080/",
          "height": 68
        }
      },
      "source": [
        "print(textVarMultiLine)"
      ],
      "execution_count": 7,
      "outputs": [
        {
          "output_type": "stream",
          "text": [
            " Wenn ein text über mehrere\n",
            "Zeilen gehen soll dann \n",
            "muss der string mit drei Gänsefüßchen angefangen und beendet werden\n"
          ],
          "name": "stdout"
        }
      ]
    },
    {
      "cell_type": "markdown",
      "metadata": {
        "id": "id65vuLdmYFB"
      },
      "source": [
        "Zahlen werden ohne direckt geschrieben"
      ]
    },
    {
      "cell_type": "code",
      "metadata": {
        "id": "2KHg2b93k8A2"
      },
      "source": [
        "num = 5"
      ],
      "execution_count": 8,
      "outputs": []
    },
    {
      "cell_type": "code",
      "metadata": {
        "id": "GdeOCt_4la7q"
      },
      "source": [
        "result = num + 1"
      ],
      "execution_count": 10,
      "outputs": []
    },
    {
      "cell_type": "code",
      "metadata": {
        "id": "wWpNFNMMlfpV"
      },
      "source": [
        ""
      ],
      "execution_count": null,
      "outputs": []
    },
    {
      "cell_type": "markdown",
      "metadata": {
        "id": "1KIcxcT0mfYN"
      },
      "source": [
        "Boolsche werte wie Wahr und Falsch werden auf folgende Weise dargestellt"
      ]
    },
    {
      "cell_type": "code",
      "metadata": {
        "id": "fcqzACSQmvVa"
      },
      "source": [
        "dasStimmt = True"
      ],
      "execution_count": 12,
      "outputs": []
    },
    {
      "cell_type": "code",
      "metadata": {
        "id": "EimhUwZXmziQ"
      },
      "source": [
        "dasStimmtNicht = False"
      ],
      "execution_count": 13,
      "outputs": []
    },
    {
      "cell_type": "markdown",
      "metadata": {
        "id": "Sx4gdeljnEDw"
      },
      "source": [
        "Hinweiss in python spiel Lehrzeichen eine wichtige rolle. Python benutzt Lehrzeichen um zu sehen welche Statements zusammen gehören"
      ]
    },
    {
      "cell_type": "code",
      "metadata": {
        "id": "nZz6R7Zpm66_",
        "outputId": "4f660533-1165-4e5b-a4c1-5e7fe13c3448",
        "colab": {
          "base_uri": "https://localhost:8080/",
          "height": 130
        }
      },
      "source": [
        "'das ist auf der richtigen höhe' \n",
        " '<- hier gibt es ein Leerzeichen das ein Fehler auslöst'"
      ],
      "execution_count": 14,
      "outputs": [
        {
          "output_type": "error",
          "ename": "IndentationError",
          "evalue": "ignored",
          "traceback": [
            "\u001b[0;36m  File \u001b[0;32m\"<ipython-input-14-52d0988e82b8>\"\u001b[0;36m, line \u001b[0;32m2\u001b[0m\n\u001b[0;31m    '<- hier gibt es ein Leerzeichen das ein Fehler auslöst'\u001b[0m\n\u001b[0m    ^\u001b[0m\n\u001b[0;31mIndentationError\u001b[0m\u001b[0;31m:\u001b[0m unexpected indent\n"
          ]
        }
      ]
    },
    {
      "cell_type": "code",
      "metadata": {
        "id": "9SzLSH8bn5x3"
      },
      "source": [
        ""
      ],
      "execution_count": null,
      "outputs": []
    }
  ]
}